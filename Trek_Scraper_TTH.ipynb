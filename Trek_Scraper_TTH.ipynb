{
  "nbformat": 4,
  "nbformat_minor": 0,
  "metadata": {
    "colab": {
      "provenance": []
    },
    "kernelspec": {
      "name": "python3",
      "display_name": "Python 3"
    },
    "language_info": {
      "name": "python"
    }
  },
  "cells": [
    {
      "cell_type": "code",
      "execution_count": 76,
      "metadata": {
        "id": "Cn77rpgLj5qf"
      },
      "outputs": [],
      "source": [
        "from bs4 import BeautifulSoup\n",
        "import pandas as pd\n",
        "import requests\n",
        "\n",
        "\n",
        "\n",
        "# Parse the HTML code using BeautifulSoup\n",
        "\n",
        "# Extract trek information\n",
        "def get_details(html_code):\n",
        "  soup = BeautifulSoup(html_code, 'html.parser')\n",
        "  trek_name = soup.find('h4', class_='line_title').text.strip()\n",
        "  location = soup.find('p', class_='line_subtitle').text.strip()\n",
        "  duration = soup.find_all('div', class_='trek_info')[0].find_all('p', class_='bold')[0].text.strip()\n",
        "  difficulty = soup.find_all('div', class_='trek_info')[1].find_all('p', class_='bold')[0].text.strip()\n",
        "  distance = soup.find_all('div', class_='trek_info')[2].find_all('p', class_='bold')[0].text.strip()\n",
        "  altitude = soup.find_all('div', class_='trek_info')[3].find_all('p', class_='bold')[0].text.strip()\n",
        "  details_link = soup.find('a', class_='trekImage')['href']\n",
        "  new_code = requests.get(details_link).text\n",
        "  soup = BeautifulSoup(new_code, 'html.parser')\n",
        "  info = soup.find_all('div', class_ = \"aboutTrek-container\")[0].text\n",
        "  return trek_name, location, duration, difficulty, distance, altitude, details_link, info\n",
        "\n",
        "\n"
      ]
    },
    {
      "cell_type": "code",
      "source": [
        "alltreks = requests.get(\"https://trekthehimalayas.com/alltreks\").text"
      ],
      "metadata": {
        "id": "qqGGgZ6uoe2N"
      },
      "execution_count": 79,
      "outputs": []
    },
    {
      "cell_type": "code",
      "source": [
        "soup = BeautifulSoup(alltreks,\"html.parser\" )"
      ],
      "metadata": {
        "id": "2Z99Iu-Vo_oF"
      },
      "execution_count": 80,
      "outputs": []
    },
    {
      "cell_type": "code",
      "source": [
        "listoftreks = soup.find_all('div', class_ = \"uk-width-1-1 uk-width-1-4@m uk-margin-bottom\")"
      ],
      "metadata": {
        "id": "fg5G8KRcr74P"
      },
      "execution_count": 81,
      "outputs": []
    },
    {
      "cell_type": "code",
      "source": [
        "FullData=pd.DataFrame()\n",
        "for code in listoftreks:\n",
        "  trek_name, location, duration, difficulty, distance, altitude, details_link, info = get_details(\"%s\"%code)\n",
        "  trekdetails = {\n",
        "      'trek_name': [trek_name],\n",
        "      'location': [location],\n",
        "      'duration': [duration],\n",
        "      'difficulty': [difficulty],\n",
        "      'distance': [distance] ,\n",
        "      'altitude': [altitude] ,\n",
        "      'details_link': [details_link],\n",
        "      'info' : [info]\n",
        "  }\n",
        "  trekdetails = pd.DataFrame(trekdetails)\n",
        "  FullData = pd.concat([FullData, trekdetails])"
      ],
      "metadata": {
        "id": "ZO5VnZzcr_bG"
      },
      "execution_count": 89,
      "outputs": []
    },
    {
      "cell_type": "code",
      "source": [
        "FullData.to_excel(\"TTH_allTreks.xlsx\")"
      ],
      "metadata": {
        "id": "V0J7VnrispgQ"
      },
      "execution_count": 94,
      "outputs": []
    },
    {
      "cell_type": "code",
      "source": [],
      "metadata": {
        "id": "oY2Yz1vxvQlD"
      },
      "execution_count": null,
      "outputs": []
    }
  ]
}