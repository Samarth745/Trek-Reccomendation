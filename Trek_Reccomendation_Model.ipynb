{
  "nbformat": 4,
  "nbformat_minor": 0,
  "metadata": {
    "colab": {
      "provenance": []
    },
    "kernelspec": {
      "name": "python3",
      "display_name": "Python 3"
    },
    "language_info": {
      "name": "python"
    }
  },
  "cells": [
    {
      "cell_type": "code",
      "execution_count": 14,
      "metadata": {
        "id": "JS8DJOO5RDsg",
        "colab": {
          "base_uri": "https://localhost:8080/"
        },
        "outputId": "b74aff0c-89f3-4ce1-9ac6-261a9cffba6b"
      },
      "outputs": [
        {
          "output_type": "stream",
          "name": "stderr",
          "text": [
            "[nltk_data] Downloading package stopwords to /root/nltk_data...\n",
            "[nltk_data]   Unzipping corpora/stopwords.zip.\n"
          ]
        }
      ],
      "source": [
        "#@title Import\n",
        "import pandas as pd\n",
        "import numpy as np\n",
        "from functools import partialmethod\n",
        "import seaborn as sns\n",
        "from sklearn.feature_extraction.text import CountVectorizer\n",
        "\n",
        "\n",
        "import nltk\n",
        "from nltk.stem.porter import PorterStemmer\n",
        "ps=PorterStemmer()\n",
        "from nltk.corpus import stopwords\n",
        "nltk.download('stopwords')\n",
        "stop_words = (stopwords.words('english'))\n",
        "\n",
        "pd.DataFrame.head = partialmethod(pd.DataFrame.head, n=2)\n",
        "pd.set_option('display.max_rows', 20)\n",
        "pd.set_option('display.max_columns', None)\n",
        "from IPython.display import clear_output\n",
        "import json\n",
        "\n",
        "from sklearn.metrics.pairwise import cosine_similarity\n",
        "\n",
        "from sklearn.feature_extraction.text import TfidfVectorizer\n"
      ]
    },
    {
      "cell_type": "code",
      "source": [
        "#@title Gather Data\n",
        "treks = pd.read_csv(\"Main_data.csv\").dropna().drop(columns=\"Unnamed: 0\")\n",
        "trek_lookup = treks.reset_index()[[\"index\", \"trek_name\"]]\n",
        "trek_disc = treks[[\"trek_name\", \"description\"]]"
      ],
      "metadata": {
        "id": "59l3emUiRah4"
      },
      "execution_count": 58,
      "outputs": []
    },
    {
      "cell_type": "code",
      "source": [
        "#@title List Transformer For NLP\n",
        "def transformer(A):\n",
        "  return [ps.stem(word.lower().replace(\" \", \"\")) for word in A if word.lower().replace(\" \", \"\") not in stop_words]\n"
      ],
      "metadata": {
        "id": "N4-qHy64SgSZ"
      },
      "execution_count": 59,
      "outputs": []
    },
    {
      "cell_type": "code",
      "source": [
        "#@title trnasform\n",
        "trek_disc[\"description\"] = trek_disc[\"description\"].str.replace(\"\\n\",\"\").str.split(\" \")\n",
        "trek_disc[\"description\"] = trek_disc[\"description\"].apply(lambda x:transformer(x))\n",
        "trek_disc[\"description\"] = trek_disc[\"description\"].apply(lambda x:' '.join(x)).str.replace(\"brief descript\", \"\")"
      ],
      "metadata": {
        "id": "ZADfH8nuVfVG"
      },
      "execution_count": null,
      "outputs": []
    },
    {
      "cell_type": "code",
      "source": [
        "cv=CountVectorizer(max_features=100, stop_words='english')\n",
        "vectors = cv.fit_transform(trek_disc['description']).toarray()\n"
      ],
      "metadata": {
        "id": "cOA8tNitWkYk"
      },
      "execution_count": 31,
      "outputs": []
    },
    {
      "cell_type": "code",
      "source": [
        "tfidf_vectorizer = TfidfVectorizer()\n"
      ],
      "metadata": {
        "id": "LVGoIkwWYuRR"
      },
      "execution_count": 52,
      "outputs": []
    },
    {
      "cell_type": "code",
      "source": [
        "similarity = cosine_similarity(vectors)"
      ],
      "metadata": {
        "id": "vnqRSmu7WywQ"
      },
      "execution_count": 35,
      "outputs": []
    },
    {
      "cell_type": "code",
      "source": [
        "similarity_df = pd.DataFrame(similarity)\n"
      ],
      "metadata": {
        "id": "qTg0r4V6W1c6"
      },
      "execution_count": 36,
      "outputs": []
    },
    {
      "cell_type": "code",
      "source": [
        "similarity_df.head()"
      ],
      "metadata": {
        "colab": {
          "base_uri": "https://localhost:8080/",
          "height": 101
        },
        "id": "UMSRzv_EW6D-",
        "outputId": "51b558cd-b0d6-41b0-d038-57188fa6a6b8"
      },
      "execution_count": 62,
      "outputs": [
        {
          "output_type": "execute_result",
          "data": {
            "text/plain": [
              "    0         1         2        3         4        5         6         7   \\\n",
              "0  1.0  0.278471  0.230381  0.18315  0.274729  0.19986  0.189987  0.346798   \n",
              "\n",
              "         8         9         10        11        12        13        14  \\\n",
              "0  0.391228  0.416228  0.246308  0.239739  0.260963  0.231015  0.304031   \n",
              "\n",
              "         15        16        17        18        19        20        21  \\\n",
              "0  0.335881  0.254282  0.294431  0.316814  0.225199  0.219627  0.102101   \n",
              "\n",
              "         22        23        24        25        26        27       28  \\\n",
              "0  0.323505  0.225695  0.335344  0.194613  0.177609  0.150842  0.22973   \n",
              "\n",
              "         29        30        31        32        33        34        35  \\\n",
              "0  0.225182  0.215203  0.237962  0.191932  0.255517  0.258438  0.294175   \n",
              "\n",
              "         36        37        38        39       40        41        42  \\\n",
              "0  0.320185  0.205303  0.290509  0.368834  0.24503  0.323351  0.344819   \n",
              "\n",
              "        43        44        45        46        47        48        49  \\\n",
              "0  0.27075  0.283244  0.095551  0.371596  0.342776  0.284053  0.118608   \n",
              "\n",
              "         50       51        52        53        54        55        56  \\\n",
              "0  0.124556  0.12691  0.178307  0.342027  0.306665  0.370456  0.274069   \n",
              "\n",
              "         57        58        59        60        61       62        63  \\\n",
              "0  0.258654  0.269432  0.279399  0.228283  0.364528  0.25205  0.435316   \n",
              "\n",
              "         64       65        66        67        68        69       70  \\\n",
              "0  0.329534  0.22598  0.320705  0.288912  0.325781  0.352092  0.30676   \n",
              "\n",
              "         71        72  \n",
              "0  0.197516  0.454544  "
            ],
            "text/html": [
              "\n",
              "  <div id=\"df-109a6144-1a2f-4495-bef4-7d2805b5775f\" class=\"colab-df-container\">\n",
              "    <div>\n",
              "<style scoped>\n",
              "    .dataframe tbody tr th:only-of-type {\n",
              "        vertical-align: middle;\n",
              "    }\n",
              "\n",
              "    .dataframe tbody tr th {\n",
              "        vertical-align: top;\n",
              "    }\n",
              "\n",
              "    .dataframe thead th {\n",
              "        text-align: right;\n",
              "    }\n",
              "</style>\n",
              "<table border=\"1\" class=\"dataframe\">\n",
              "  <thead>\n",
              "    <tr style=\"text-align: right;\">\n",
              "      <th></th>\n",
              "      <th>0</th>\n",
              "      <th>1</th>\n",
              "      <th>2</th>\n",
              "      <th>3</th>\n",
              "      <th>4</th>\n",
              "      <th>5</th>\n",
              "      <th>6</th>\n",
              "      <th>7</th>\n",
              "      <th>8</th>\n",
              "      <th>9</th>\n",
              "      <th>10</th>\n",
              "      <th>11</th>\n",
              "      <th>12</th>\n",
              "      <th>13</th>\n",
              "      <th>14</th>\n",
              "      <th>15</th>\n",
              "      <th>16</th>\n",
              "      <th>17</th>\n",
              "      <th>18</th>\n",
              "      <th>19</th>\n",
              "      <th>20</th>\n",
              "      <th>21</th>\n",
              "      <th>22</th>\n",
              "      <th>23</th>\n",
              "      <th>24</th>\n",
              "      <th>25</th>\n",
              "      <th>26</th>\n",
              "      <th>27</th>\n",
              "      <th>28</th>\n",
              "      <th>29</th>\n",
              "      <th>30</th>\n",
              "      <th>31</th>\n",
              "      <th>32</th>\n",
              "      <th>33</th>\n",
              "      <th>34</th>\n",
              "      <th>35</th>\n",
              "      <th>36</th>\n",
              "      <th>37</th>\n",
              "      <th>38</th>\n",
              "      <th>39</th>\n",
              "      <th>40</th>\n",
              "      <th>41</th>\n",
              "      <th>42</th>\n",
              "      <th>43</th>\n",
              "      <th>44</th>\n",
              "      <th>45</th>\n",
              "      <th>46</th>\n",
              "      <th>47</th>\n",
              "      <th>48</th>\n",
              "      <th>49</th>\n",
              "      <th>50</th>\n",
              "      <th>51</th>\n",
              "      <th>52</th>\n",
              "      <th>53</th>\n",
              "      <th>54</th>\n",
              "      <th>55</th>\n",
              "      <th>56</th>\n",
              "      <th>57</th>\n",
              "      <th>58</th>\n",
              "      <th>59</th>\n",
              "      <th>60</th>\n",
              "      <th>61</th>\n",
              "      <th>62</th>\n",
              "      <th>63</th>\n",
              "      <th>64</th>\n",
              "      <th>65</th>\n",
              "      <th>66</th>\n",
              "      <th>67</th>\n",
              "      <th>68</th>\n",
              "      <th>69</th>\n",
              "      <th>70</th>\n",
              "      <th>71</th>\n",
              "      <th>72</th>\n",
              "    </tr>\n",
              "  </thead>\n",
              "  <tbody>\n",
              "    <tr>\n",
              "      <th>0</th>\n",
              "      <td>1.0</td>\n",
              "      <td>0.278471</td>\n",
              "      <td>0.230381</td>\n",
              "      <td>0.18315</td>\n",
              "      <td>0.274729</td>\n",
              "      <td>0.19986</td>\n",
              "      <td>0.189987</td>\n",
              "      <td>0.346798</td>\n",
              "      <td>0.391228</td>\n",
              "      <td>0.416228</td>\n",
              "      <td>0.246308</td>\n",
              "      <td>0.239739</td>\n",
              "      <td>0.260963</td>\n",
              "      <td>0.231015</td>\n",
              "      <td>0.304031</td>\n",
              "      <td>0.335881</td>\n",
              "      <td>0.254282</td>\n",
              "      <td>0.294431</td>\n",
              "      <td>0.316814</td>\n",
              "      <td>0.225199</td>\n",
              "      <td>0.219627</td>\n",
              "      <td>0.102101</td>\n",
              "      <td>0.323505</td>\n",
              "      <td>0.225695</td>\n",
              "      <td>0.335344</td>\n",
              "      <td>0.194613</td>\n",
              "      <td>0.177609</td>\n",
              "      <td>0.150842</td>\n",
              "      <td>0.22973</td>\n",
              "      <td>0.225182</td>\n",
              "      <td>0.215203</td>\n",
              "      <td>0.237962</td>\n",
              "      <td>0.191932</td>\n",
              "      <td>0.255517</td>\n",
              "      <td>0.258438</td>\n",
              "      <td>0.294175</td>\n",
              "      <td>0.320185</td>\n",
              "      <td>0.205303</td>\n",
              "      <td>0.290509</td>\n",
              "      <td>0.368834</td>\n",
              "      <td>0.24503</td>\n",
              "      <td>0.323351</td>\n",
              "      <td>0.344819</td>\n",
              "      <td>0.27075</td>\n",
              "      <td>0.283244</td>\n",
              "      <td>0.095551</td>\n",
              "      <td>0.371596</td>\n",
              "      <td>0.342776</td>\n",
              "      <td>0.284053</td>\n",
              "      <td>0.118608</td>\n",
              "      <td>0.124556</td>\n",
              "      <td>0.12691</td>\n",
              "      <td>0.178307</td>\n",
              "      <td>0.342027</td>\n",
              "      <td>0.306665</td>\n",
              "      <td>0.370456</td>\n",
              "      <td>0.274069</td>\n",
              "      <td>0.258654</td>\n",
              "      <td>0.269432</td>\n",
              "      <td>0.279399</td>\n",
              "      <td>0.228283</td>\n",
              "      <td>0.364528</td>\n",
              "      <td>0.25205</td>\n",
              "      <td>0.435316</td>\n",
              "      <td>0.329534</td>\n",
              "      <td>0.22598</td>\n",
              "      <td>0.320705</td>\n",
              "      <td>0.288912</td>\n",
              "      <td>0.325781</td>\n",
              "      <td>0.352092</td>\n",
              "      <td>0.30676</td>\n",
              "      <td>0.197516</td>\n",
              "      <td>0.454544</td>\n",
              "    </tr>\n",
              "  </tbody>\n",
              "</table>\n",
              "</div>\n",
              "    <div class=\"colab-df-buttons\">\n",
              "\n",
              "  <div class=\"colab-df-container\">\n",
              "    <button class=\"colab-df-convert\" onclick=\"convertToInteractive('df-109a6144-1a2f-4495-bef4-7d2805b5775f')\"\n",
              "            title=\"Convert this dataframe to an interactive table.\"\n",
              "            style=\"display:none;\">\n",
              "\n",
              "  <svg xmlns=\"http://www.w3.org/2000/svg\" height=\"24px\" viewBox=\"0 -960 960 960\">\n",
              "    <path d=\"M120-120v-720h720v720H120Zm60-500h600v-160H180v160Zm220 220h160v-160H400v160Zm0 220h160v-160H400v160ZM180-400h160v-160H180v160Zm440 0h160v-160H620v160ZM180-180h160v-160H180v160Zm440 0h160v-160H620v160Z\"/>\n",
              "  </svg>\n",
              "    </button>\n",
              "\n",
              "  <style>\n",
              "    .colab-df-container {\n",
              "      display:flex;\n",
              "      gap: 12px;\n",
              "    }\n",
              "\n",
              "    .colab-df-convert {\n",
              "      background-color: #E8F0FE;\n",
              "      border: none;\n",
              "      border-radius: 50%;\n",
              "      cursor: pointer;\n",
              "      display: none;\n",
              "      fill: #1967D2;\n",
              "      height: 32px;\n",
              "      padding: 0 0 0 0;\n",
              "      width: 32px;\n",
              "    }\n",
              "\n",
              "    .colab-df-convert:hover {\n",
              "      background-color: #E2EBFA;\n",
              "      box-shadow: 0px 1px 2px rgba(60, 64, 67, 0.3), 0px 1px 3px 1px rgba(60, 64, 67, 0.15);\n",
              "      fill: #174EA6;\n",
              "    }\n",
              "\n",
              "    .colab-df-buttons div {\n",
              "      margin-bottom: 4px;\n",
              "    }\n",
              "\n",
              "    [theme=dark] .colab-df-convert {\n",
              "      background-color: #3B4455;\n",
              "      fill: #D2E3FC;\n",
              "    }\n",
              "\n",
              "    [theme=dark] .colab-df-convert:hover {\n",
              "      background-color: #434B5C;\n",
              "      box-shadow: 0px 1px 3px 1px rgba(0, 0, 0, 0.15);\n",
              "      filter: drop-shadow(0px 1px 2px rgba(0, 0, 0, 0.3));\n",
              "      fill: #FFFFFF;\n",
              "    }\n",
              "  </style>\n",
              "\n",
              "    <script>\n",
              "      const buttonEl =\n",
              "        document.querySelector('#df-109a6144-1a2f-4495-bef4-7d2805b5775f button.colab-df-convert');\n",
              "      buttonEl.style.display =\n",
              "        google.colab.kernel.accessAllowed ? 'block' : 'none';\n",
              "\n",
              "      async function convertToInteractive(key) {\n",
              "        const element = document.querySelector('#df-109a6144-1a2f-4495-bef4-7d2805b5775f');\n",
              "        const dataTable =\n",
              "          await google.colab.kernel.invokeFunction('convertToInteractive',\n",
              "                                                    [key], {});\n",
              "        if (!dataTable) return;\n",
              "\n",
              "        const docLinkHtml = 'Like what you see? Visit the ' +\n",
              "          '<a target=\"_blank\" href=https://colab.research.google.com/notebooks/data_table.ipynb>data table notebook</a>'\n",
              "          + ' to learn more about interactive tables.';\n",
              "        element.innerHTML = '';\n",
              "        dataTable['output_type'] = 'display_data';\n",
              "        await google.colab.output.renderOutput(dataTable, element);\n",
              "        const docLink = document.createElement('div');\n",
              "        docLink.innerHTML = docLinkHtml;\n",
              "        element.appendChild(docLink);\n",
              "      }\n",
              "    </script>\n",
              "  </div>\n",
              "\n",
              "\n",
              "    </div>\n",
              "  </div>\n"
            ],
            "application/vnd.google.colaboratory.intrinsic+json": {
              "type": "dataframe",
              "variable_name": "similarity_df"
            }
          },
          "metadata": {},
          "execution_count": 62
        }
      ]
    },
    {
      "cell_type": "code",
      "source": [
        "def reccomend_trek(trek_name):\n",
        "  index = trek_lookup[trek_lookup['trek_name']==trek_name].index.values[0]\n",
        "  distances = pd.DataFrame(similarity_df.loc[index])\n",
        "  suggestions_index = distances.sort_values(by=index,ascending=False).index[:3]\n",
        "  suggestions_name = trek_lookup[trek_lookup.index.isin(suggestions_index)]['trek_name'].values\n",
        "  return(suggestions_name)"
      ],
      "metadata": {
        "id": "Wso96Z2FXQTn"
      },
      "execution_count": 49,
      "outputs": []
    },
    {
      "cell_type": "code",
      "source": [
        "reccomend_trek(\"Friendship Peak Expedition\")"
      ],
      "metadata": {
        "colab": {
          "base_uri": "https://localhost:8080/"
        },
        "id": "PVAappGUXt98",
        "outputId": "a652f622-bb22-42b3-b72a-19324cf9528a"
      },
      "execution_count": 50,
      "outputs": [
        {
          "output_type": "execute_result",
          "data": {
            "text/plain": [
              "array(['Friendship Peak Expedition', 'Black Peak (Kalanag) Expedition',\n",
              "       'Nag Tibba Trek'], dtype=object)"
            ]
          },
          "metadata": {},
          "execution_count": 50
        }
      ]
    },
    {
      "cell_type": "code",
      "source": [
        "trek_lookup.to_pickle(\"TreksList.pkl\")\n",
        "similarity_df.to_pickle(\"similarity_df.pkl\")"
      ],
      "metadata": {
        "id": "9EwM4W8WXziT"
      },
      "execution_count": 64,
      "outputs": []
    },
    {
      "cell_type": "code",
      "source": [],
      "metadata": {
        "id": "aVZgazYVas88"
      },
      "execution_count": null,
      "outputs": []
    }
  ]
}