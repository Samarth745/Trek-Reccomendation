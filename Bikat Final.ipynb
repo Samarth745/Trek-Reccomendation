{
 "cells": [
  {
   "cell_type": "markdown",
   "id": "52002df3",
   "metadata": {},
   "source": [
    "# Import Libraries"
   ]
  },
  {
   "cell_type": "code",
   "execution_count": 1,
   "id": "5ae1271b",
   "metadata": {},
   "outputs": [],
   "source": [
    "from bs4 import BeautifulSoup\n",
    "import csv\n",
    "from selenium import webdriver\n",
    "import openpyxl\n",
    "import xlsxwriter\n",
    "import pandas as pd\n",
    "import time\n",
    "import datetime\n",
    "from selenium.webdriver.common.keys import Keys\n"
   ]
  },
  {
   "cell_type": "markdown",
   "id": "676dd093",
   "metadata": {},
   "source": [
    "# SCRAPER"
   ]
  },
  {
   "cell_type": "code",
   "execution_count": 46,
   "id": "41d5dc34",
   "metadata": {},
   "outputs": [],
   "source": [
    "trek_list = pd.read_html('https://www.bikatadventures.com/Home/Blog/Bikat-Rating-Scale')\n",
    "trek_list = pd.DataFrame(trek_list[0])\n",
    "Diff_link = []\n",
    "NA_treks = []\n",
    "URL = []"
   ]
  },
  {
   "cell_type": "markdown",
   "id": "db887522",
   "metadata": {},
   "source": [
    "URL generator"
   ]
  },
  {
   "cell_type": "code",
   "execution_count": 56,
   "id": "715923e6",
   "metadata": {},
   "outputs": [],
   "source": [
    "trek_name2 = trek_list['Activity Name'].unique()\n",
    "trek_name = []\n",
    "driver = webdriver.Chrome()\n",
    "for i in range(0,len(trek_name2)):\n",
    "    trek_name.append(trek_name2[i].replace(\" \",\"%20\"))\n",
    "for i in trek_name:\n",
    "    url = 'https://www.bikatadventures.com/Home/Search?searchstring='+i\n",
    "    driver.get(url)\n",
    "    soup = BeautifulSoup(driver.page_source, 'html.parser')\n",
    "    try:\n",
    "        link = 'https://www.bikatadventures.com'+soup.find('div', {'class' : 'col-lg-3 col-md-3 col-sm-4 col-xs-12'}).a['href']\n",
    "        if i[0:3].lower() in link.lower():\n",
    "            URL.append(link)\n",
    "        else:\n",
    "            Diff_link.append((link,i))\n",
    "    except AttributeError:\n",
    "        NA_treks.append(i)"
   ]
  },
  {
   "cell_type": "markdown",
   "id": "277f9aea",
   "metadata": {},
   "source": [
    "Manual correction for NA and Diff_link"
   ]
  },
  {
   "cell_type": "markdown",
   "id": "f657cbad",
   "metadata": {},
   "source": [
    "Main Scraper"
   ]
  },
  {
   "cell_type": "code",
   "execution_count": null,
   "id": "4437d158",
   "metadata": {},
   "outputs": [],
   "source": [
    "driver = webdriver.Chrome()\n",
    "for i in URL:\n",
    "    driver.get(i)\n",
    "    time.sleep(5)\n",
    "    soup = BeautifulSoup(driver.page_source, 'html.parser')     \n",
    "    try:\n",
    "        header = soup.find('div', {'class': 'top-info-card__heading'})\n",
    "        trek_name = header.h1.text\n",
    "        region = header.h3.span.text\n",
    "        no_of_days = header.h3.text\n",
    "        no_of_days = no_of_days.split(\" \")[4]\n",
    "        header2 = soup.find('div', {'class': 'top-info-card__difficulty'})\n",
    "        #difficulty = soup.find('div', {'class': 'row'})\n",
    "        #difficulty = soup.find('div', {'class': 'gauge-wrap'})\n",
    "        #difficulty = soup.find('div', {'id' : 'g0'})\n",
    "        difficulty  = soup.find('div', {'style' :'display:none'}).text\n",
    "        distance = soup.find('div', {'class': 'icon-section'}).text.split(\"\\n\")[2]\n",
    "        altitude = soup.find('div', {'class': 'top-info-card__difficulty--altitude'}).text.split(\"\\n\")[2]\n",
    "        price = soup.find('span', {'class' : 'main-price'}).text\n",
    "        SD = soup.find('p', {'class' : 'destination-info'}).text\n",
    "        SD.split(\"to\")\n",
    "        B = soup.find('div', {'class' : 'col-xs-12 col-lg-9 side accordion-mob'})\n",
    "        description = B.find('div', {'class' : 'brief-section section para'}).text\n",
    "        BB = soup.find('div', {'class' : 'form smart-form-new'}).text\n",
    "        Extra_cost = BB.strip()\n",
    "        #BB = BB.split(\"                          \")\n",
    "        #Single_tent_acc = BB[2].split(\"\\n\")[0].strip()\n",
    "        #Backpack_offloading = BB[3].split(\"\\n\")[0].strip()\n",
    "        #insurance = BB[5].split(\"\\n\")[0].strip()\n",
    "        #travel = BB[4].split(\"\\n\")[0].strip()\n",
    "        #startbase = travel.split(\" \")[3]\n",
    "        #endbase = travel.split(\" \")[5]\n",
    "        A = (trek_name,region,no_of_days,difficulty,distance,altitude,price,SD,description, Extra_cost)\n",
    "        Data.append(A)\n",
    "        print(180-len(Data)-len(x))\n",
    "    except AttributeError:\n",
    "        x.append(driver.current_url)\n",
    "        print(180-len(Data)-len(x))\n",
    "    Main_data=pd.DataFrame(Data, columns=['trek_name','region','no_of_days','difficulty','distance','altitude','price','SD','description', 'Extra_cost'])\n",
    "    Main_data.to_csv(r'C:\\Users\\Samarth\\Desktop\\Main_data.csv')   "
   ]
  },
  {
   "cell_type": "markdown",
   "id": "6512eb9b",
   "metadata": {},
   "source": [
    "## Data Cleaning"
   ]
  },
  {
   "cell_type": "markdown",
   "id": "b967f80a",
   "metadata": {},
   "source": [
    "Correcting Column names and data types"
   ]
  },
  {
   "cell_type": "code",
   "execution_count": 24,
   "id": "4bb88c0d",
   "metadata": {},
   "outputs": [],
   "source": [
    "Main_data.rename(columns = {'altitude':'Altitude_(in_mts)', 'distance' : 'Distance_(in_km)', 'price' : 'price_(in_Rs)'}, inplace = True)\n",
    "Main_data['Altitude_(in_mts)']=Main_data['Altitude_(in_mts)'].apply(lambda x: int(x.split(\" \")[0]))\n",
    "Main_data['Distance_(in_km)']=Main_data['Distance_(in_km)'].apply(lambda x: int(x.split(\" \")[0]))\n",
    "\n",
    "Main_data['Single_tent']=\"\"\n",
    "Main_data['Backpack_offloading']=\"\"\n",
    "Main_data['Travel']=\"\"\n",
    "Main_data['Insurance']=\"\""
   ]
  },
  {
   "cell_type": "markdown",
   "id": "5ab72b5d",
   "metadata": {},
   "source": [
    "STripping Extracost Column"
   ]
  },
  {
   "cell_type": "code",
   "execution_count": 25,
   "id": "186bf67b",
   "metadata": {},
   "outputs": [],
   "source": [
    "def stripper(a):\n",
    "    a = a.replace(\" \",\"\")\n",
    "    a = a.replace(\"\\n\",\"\").split(\"+\")\n",
    "    return(a)\n",
    "Main_data['Extra_cost'] = Main_data['Extra_cost'].apply(lambda x: stripper(x))"
   ]
  },
  {
   "cell_type": "markdown",
   "id": "a065f22a",
   "metadata": {},
   "source": [
    "Filling values for extra cost Bifurcation"
   ]
  },
  {
   "cell_type": "code",
   "execution_count": 27,
   "id": "e61c0441",
   "metadata": {},
   "outputs": [
    {
     "name": "stderr",
     "output_type": "stream",
     "text": [
      "<ipython-input-27-528cbccb028d>:5: SettingWithCopyWarning: \n",
      "A value is trying to be set on a copy of a slice from a DataFrame\n",
      "\n",
      "See the caveats in the documentation: https://pandas.pydata.org/pandas-docs/stable/user_guide/indexing.html#returning-a-view-versus-a-copy\n",
      "  Main_data['Single_tent'][i]='Single_tent'+\" \"+z.split(\"S\")[0]\n",
      "<ipython-input-27-528cbccb028d>:7: SettingWithCopyWarning: \n",
      "A value is trying to be set on a copy of a slice from a DataFrame\n",
      "\n",
      "See the caveats in the documentation: https://pandas.pydata.org/pandas-docs/stable/user_guide/indexing.html#returning-a-view-versus-a-copy\n",
      "  Main_data['Backpack_offloading'][i]=\"backpack\"+\" \"+z.split(\"B\")[0]\n",
      "<ipython-input-27-528cbccb028d>:9: SettingWithCopyWarning: \n",
      "A value is trying to be set on a copy of a slice from a DataFrame\n",
      "\n",
      "See the caveats in the documentation: https://pandas.pydata.org/pandas-docs/stable/user_guide/indexing.html#returning-a-view-versus-a-copy\n",
      "  Main_data['Travel'][i]=z\n",
      "<ipython-input-27-528cbccb028d>:11: SettingWithCopyWarning: \n",
      "A value is trying to be set on a copy of a slice from a DataFrame\n",
      "\n",
      "See the caveats in the documentation: https://pandas.pydata.org/pandas-docs/stable/user_guide/indexing.html#returning-a-view-versus-a-copy\n",
      "  Main_data['Insurance'][i]=\"Insurance\"+\" \"+z.split(\"M\")[0]\n"
     ]
    }
   ],
   "source": [
    "for i in range (1,77):\n",
    "    x = Main_data['Extra_cost'][i]\n",
    "    for z in x: \n",
    "        if \"Tent\" in z:\n",
    "            Main_data['Single_tent'][i]='Single_tent'+\" \"+z.split(\"S\")[0]\n",
    "        elif \"Backpack\" in z:\n",
    "            Main_data['Backpack_offloading'][i]=\"backpack\"+\" \"+z.split(\"B\")[0]\n",
    "        elif \"-\" in z:\n",
    "            Main_data['Travel'][i]=z\n",
    "        elif \"Insurance\" in z:\n",
    "            Main_data['Insurance'][i]=\"Insurance\"+\" \"+z.split(\"M\")[0]"
   ]
  },
  {
   "cell_type": "markdown",
   "id": "6d31e88b",
   "metadata": {},
   "source": [
    "Covert the other columns to digitis"
   ]
  },
  {
   "cell_type": "code",
   "execution_count": 28,
   "id": "8d3cea2b",
   "metadata": {},
   "outputs": [],
   "source": [
    "def convdig(x):\n",
    "    emp_str = \"\"\n",
    "    for m in x:\n",
    "        if m.isdigit():\n",
    "            emp_str = emp_str + m\n",
    "    return(emp_str)\n",
    "\n",
    "Main_data['Insurance']=Main_data['Insurance'].apply(lambda x: convdig(x))\n",
    "Main_data['Single_tent']=Main_data['Single_tent'].apply(lambda x: convdig(x))\n",
    "Main_data['Backpack_offloading']=Main_data['Backpack_offloading'].apply(lambda x: convdig(x))\n"
   ]
  },
  {
   "cell_type": "markdown",
   "id": "31abe452",
   "metadata": {},
   "source": [
    "## Merge for Months"
   ]
  },
  {
   "cell_type": "markdown",
   "id": "8669342d",
   "metadata": {},
   "source": [
    "Make Manual corrections for unmatched Data"
   ]
  },
  {
   "cell_type": "code",
   "execution_count": 38,
   "id": "d83456f2",
   "metadata": {},
   "outputs": [
    {
     "name": "stdout",
     "output_type": "stream",
     "text": [
      "Enter the Budget as int  35000\n"
     ]
    }
   ],
   "source": [
    "Z = pd.merge(Main_data, trek_list, how='outer', left_on='trek_name', right_on='Activity Name')"
   ]
  },
  {
   "cell_type": "code",
   "execution_count": 64,
   "id": "581f3624",
   "metadata": {},
   "outputs": [],
   "source": [
    "Z['Typical Season']=Z['Typical Season'].apply(lambda x: x.split(\",\"))\n",
    "Z.explode('Typical Season')\n",
    "Z[\"Typical Season\"].replace({'Jan':1, 'Feb':2, 'Mar' :3, 'Nov':11, 'Dec' :12, 'May' :5, 'Sep':9, 'Oct':10, 'Jun':6,\n",
    "       'Aug' : 8, 'Apr' :4, 'Sept' :9, 'Jul' : 7, 'June' :6, ' Aug' : 8, ' Sep' : 9, ' Oct' : 10,\n",
    "       'July' : 7}, inplace=True)"
   ]
  },
  {
   "cell_type": "code",
   "execution_count": 17,
   "id": "6028a0c4",
   "metadata": {},
   "outputs": [],
   "source": [
    "Final_data.to_pickle('Final_data')"
   ]
  },
  {
   "cell_type": "markdown",
   "id": "9bafd0cc",
   "metadata": {},
   "source": [
    "### Data Cleaning through excel"
   ]
  },
  {
   "cell_type": "code",
   "execution_count": 2,
   "id": "896a3d2e",
   "metadata": {},
   "outputs": [],
   "source": [
    "Final_data = pd.read_pickle('Final_data')"
   ]
  },
  {
   "cell_type": "code",
   "execution_count": null,
   "id": "52f33d89",
   "metadata": {},
   "outputs": [],
   "source": [
    "Pass = {'Ali Bedni Bugyal Trek' : 'Yes',\n",
    "'Bali Pass Trek': 'Yes',\n",
    "'Beas Kund Trek': 'Yes',\n",
    "'Bhrigu Lake Trek': 'Yes',\n",
    "'Brahmatal Trek ': 'Yes',\n",
    "'Dayara Bugyal Trek': 'Yes',\n",
    "'Deo Tibba Base Camp Trek': 'Yes',\n",
    "'Dev Kyara Trek': 'Yes',\n",
    "'Ghepan Ghat Lake Trek': 'Yes',\n",
    "'Hampta Pass Trek': 'Yes',\n",
    "'Har ki Dun Trek': 'Yes',\n",
    "'Kalihani Pass Trek': 'Yes',\n",
    "'Kashmir Great Lakes Trek': 'Yes',\n",
    "'Kedarkantha Trek': 'Yes',\n",
    "'Mukta Top Trek': 'Yes',\n",
    "'Nag Tibba Trek': 'Yes',\n",
    "'Phulara Ridge Trek': 'Yes',\n",
    "'Rupin Pass Trek': 'Yes',\n",
    "'Sham Valley Trek': 'Yes',\n",
    "'Tarsar Marsar Trek': 'Yes'}\n",
    "Final_data['Pass'] = Final_data['trek_name'].map(Pass).fillna(\"No\")\n"
   ]
  },
  {
   "cell_type": "code",
   "execution_count": null,
   "id": "770d0b3c",
   "metadata": {},
   "outputs": [],
   "source": [
    "Final Required "
   ]
  },
  {
   "cell_type": "markdown",
   "id": "f65c76f5",
   "metadata": {},
   "source": [
    "\n"
   ]
  },
  {
   "cell_type": "code",
   "execution_count": 3,
   "id": "9ec3d30f",
   "metadata": {},
   "outputs": [
    {
     "name": "stdout",
     "output_type": "stream",
     "text": [
      "No of Days  15\n",
      "Treks Completed  7\n",
      "Month Number  12\n",
      "('Nag Tibba Trek', 'Mukta Top Trek')\n",
      "('Nag Tibba Trek', 'Dayara Bugyal Trek')\n",
      "('Nag Tibba Trek', 'Kedarkantha Trek')\n",
      "('Mukta Top Trek', 'Dayara Bugyal Trek')\n",
      "('Mukta Top Trek', 'Kedarkantha Trek')\n",
      "('Dayara Bugyal Trek', 'Kedarkantha Trek')\n"
     ]
    },
    {
     "data": {
      "text/html": [
       "<div>\n",
       "<style scoped>\n",
       "    .dataframe tbody tr th:only-of-type {\n",
       "        vertical-align: middle;\n",
       "    }\n",
       "\n",
       "    .dataframe tbody tr th {\n",
       "        vertical-align: top;\n",
       "    }\n",
       "\n",
       "    .dataframe thead th {\n",
       "        text-align: right;\n",
       "    }\n",
       "</style>\n",
       "<table border=\"1\" class=\"dataframe\">\n",
       "  <thead>\n",
       "    <tr style=\"text-align: right;\">\n",
       "      <th></th>\n",
       "      <th>trek_name</th>\n",
       "      <th>region</th>\n",
       "      <th>no_of_days</th>\n",
       "      <th>difficulty</th>\n",
       "      <th>Distance_(in_km)</th>\n",
       "      <th>Altitude_(in_mts)</th>\n",
       "      <th>price_(in_Rs)</th>\n",
       "      <th>SD</th>\n",
       "      <th>description</th>\n",
       "      <th>Extra_cost</th>\n",
       "      <th>Single_tent</th>\n",
       "      <th>Backpack_offloading</th>\n",
       "      <th>Travel</th>\n",
       "      <th>Insurance</th>\n",
       "      <th>Activity Name</th>\n",
       "      <th>No.of Days</th>\n",
       "      <th>Typical Season</th>\n",
       "      <th>Max. Altitude(M)</th>\n",
       "      <th>BRS</th>\n",
       "      <th>Grade Classification</th>\n",
       "    </tr>\n",
       "  </thead>\n",
       "  <tbody>\n",
       "    <tr>\n",
       "      <th>0</th>\n",
       "      <td>Nag Tibba Trek</td>\n",
       "      <td>Uttrakhand</td>\n",
       "      <td>3.0</td>\n",
       "      <td>1</td>\n",
       "      <td>19</td>\n",
       "      <td>3004</td>\n",
       "      <td>3950</td>\n",
       "      <td>Pantwari to Pantwari</td>\n",
       "      <td>\\nBrief Description \\n\\nIf you’re looking for ...</td>\n",
       "      <td>['AddOns', 'Rs.0', 'Rs.600.00SingleAccommodati...</td>\n",
       "      <td>NaN</td>\n",
       "      <td>NaN</td>\n",
       "      <td>NaN</td>\n",
       "      <td>NaN</td>\n",
       "      <td>Nag Tibba Winter Trek</td>\n",
       "      <td>3</td>\n",
       "      <td>12</td>\n",
       "      <td>3000</td>\n",
       "      <td>1</td>\n",
       "      <td>Easy</td>\n",
       "    </tr>\n",
       "    <tr>\n",
       "      <th>50</th>\n",
       "      <td>Mukta Top Trek</td>\n",
       "      <td>Uttarakhand</td>\n",
       "      <td>6.0</td>\n",
       "      <td>2</td>\n",
       "      <td>28</td>\n",
       "      <td>3603</td>\n",
       "      <td>9600</td>\n",
       "      <td>Kuflon to Kuflon</td>\n",
       "      <td>\\nBrief Description \\n\\n                      ...</td>\n",
       "      <td>['AddOns', 'Rs.0', 'Rs.0', 'Rs.1750BackpackOff...</td>\n",
       "      <td>NaN</td>\n",
       "      <td>1750.0</td>\n",
       "      <td>Rs.2000Dehradun-Dehradun</td>\n",
       "      <td>248.0</td>\n",
       "      <td>Mukta Top Trek</td>\n",
       "      <td>6</td>\n",
       "      <td>12</td>\n",
       "      <td>3603</td>\n",
       "      <td>2</td>\n",
       "      <td>Easy</td>\n",
       "    </tr>\n",
       "    <tr>\n",
       "      <th>55</th>\n",
       "      <td>Dayara Bugyal Trek</td>\n",
       "      <td>Uttrakhand</td>\n",
       "      <td>5.0</td>\n",
       "      <td>2</td>\n",
       "      <td>21</td>\n",
       "      <td>3750</td>\n",
       "      <td>8000</td>\n",
       "      <td>Raithal to Raithal</td>\n",
       "      <td>\\nBrief Description \\n\\n                      ...</td>\n",
       "      <td>['AddOns', 'Rs.0DelhitoDehradun', 'Rs.0Dehradu...</td>\n",
       "      <td>NaN</td>\n",
       "      <td>918.0</td>\n",
       "      <td>Rs.2000Dehradun-Dehradun</td>\n",
       "      <td>206.0</td>\n",
       "      <td>Dayara Bugyal Trek</td>\n",
       "      <td>4</td>\n",
       "      <td>12</td>\n",
       "      <td>3000</td>\n",
       "      <td>1</td>\n",
       "      <td>Easy</td>\n",
       "    </tr>\n",
       "    <tr>\n",
       "      <th>57</th>\n",
       "      <td>Kedarkantha Trek</td>\n",
       "      <td>Uttarakhand</td>\n",
       "      <td>5.0</td>\n",
       "      <td>2</td>\n",
       "      <td>23</td>\n",
       "      <td>3810</td>\n",
       "      <td>8900</td>\n",
       "      <td>Sankri to Sankri</td>\n",
       "      <td>\\nBrief Description \\n\\nLocated close to Govin...</td>\n",
       "      <td>['AddOns', 'Rs.0', 'Rs.900.00SingleAccommodati...</td>\n",
       "      <td>90000.0</td>\n",
       "      <td>1224.0</td>\n",
       "      <td>Rs.2200Dehradun-Dehradun</td>\n",
       "      <td>206.0</td>\n",
       "      <td>Kedarkantha Trek</td>\n",
       "      <td>5</td>\n",
       "      <td>12</td>\n",
       "      <td>3810</td>\n",
       "      <td>2</td>\n",
       "      <td>Easy</td>\n",
       "    </tr>\n",
       "  </tbody>\n",
       "</table>\n",
       "</div>"
      ],
      "text/plain": [
       "             trek_name       region  no_of_days  difficulty  Distance_(in_km)  \\\n",
       "0       Nag Tibba Trek   Uttrakhand         3.0           1                19   \n",
       "50      Mukta Top Trek  Uttarakhand         6.0           2                28   \n",
       "55  Dayara Bugyal Trek   Uttrakhand         5.0           2                21   \n",
       "57    Kedarkantha Trek  Uttarakhand         5.0           2                23   \n",
       "\n",
       "    Altitude_(in_mts) price_(in_Rs)                    SD  \\\n",
       "0                3004          3950  Pantwari to Pantwari   \n",
       "50               3603          9600      Kuflon to Kuflon   \n",
       "55               3750          8000    Raithal to Raithal   \n",
       "57               3810          8900      Sankri to Sankri   \n",
       "\n",
       "                                          description  \\\n",
       "0   \\nBrief Description \\n\\nIf you’re looking for ...   \n",
       "50  \\nBrief Description \\n\\n                      ...   \n",
       "55  \\nBrief Description \\n\\n                      ...   \n",
       "57  \\nBrief Description \\n\\nLocated close to Govin...   \n",
       "\n",
       "                                           Extra_cost  Single_tent  \\\n",
       "0   ['AddOns', 'Rs.0', 'Rs.600.00SingleAccommodati...          NaN   \n",
       "50  ['AddOns', 'Rs.0', 'Rs.0', 'Rs.1750BackpackOff...          NaN   \n",
       "55  ['AddOns', 'Rs.0DelhitoDehradun', 'Rs.0Dehradu...          NaN   \n",
       "57  ['AddOns', 'Rs.0', 'Rs.900.00SingleAccommodati...      90000.0   \n",
       "\n",
       "    Backpack_offloading                    Travel  Insurance  \\\n",
       "0                   NaN                       NaN        NaN   \n",
       "50               1750.0  Rs.2000Dehradun-Dehradun      248.0   \n",
       "55                918.0  Rs.2000Dehradun-Dehradun      206.0   \n",
       "57               1224.0  Rs.2200Dehradun-Dehradun      206.0   \n",
       "\n",
       "            Activity Name  No.of Days  Typical Season  Max. Altitude(M)  BRS  \\\n",
       "0   Nag Tibba Winter Trek           3              12              3000    1   \n",
       "50         Mukta Top Trek           6              12              3603    2   \n",
       "55     Dayara Bugyal Trek           4              12              3000    1   \n",
       "57       Kedarkantha Trek           5              12              3810    2   \n",
       "\n",
       "   Grade Classification  \n",
       "0                  Easy  \n",
       "50                 Easy  \n",
       "55                 Easy  \n",
       "57                 Easy  "
      ]
     },
     "execution_count": 3,
     "metadata": {},
     "output_type": "execute_result"
    }
   ],
   "source": [
    "x = int(input(\"No of Days  \")) #no of days\n",
    "y = int(input(\"Treks Completed  \")) #Treks completed\n",
    "z = int(input(\"Month Number  \")) #month\n",
    "Rec_treks = Final_data.loc[(Final_data['no_of_days']<x)&(Final_data['Typical Season']==z)&(Final_data['difficulty']<=max(3,y+2))]\n",
    "Mult = Rec_treks[['trek_name', 'no_of_days','region','difficulty', 'Distance_(in_km)',\n",
    "       'Altitude_(in_mts)', 'price_(in_Rs)', 'SD', 'description', 'Extra_cost',\n",
    "       'Single_tent', 'Backpack_offloading', 'Travel', 'Insurance',\n",
    "       'Activity Name', 'No.of Days', 'Typical Season', 'Max. Altitude(M)',\n",
    "       'BRS', 'Grade Classification']]\n",
    "n=x\n",
    "Multiple_treks=[]\n",
    "for i in range (0,len(Mult)):\n",
    "    for j in range(i+1, len(Mult)):\n",
    "        if Mult.iloc[i][1]+Mult.iloc[j][1] < n-1:\n",
    "            double = (Mult.iloc[i][0],Mult.iloc[j][0])\n",
    "            Multiple_treks.append(double)\n",
    "        for k in range(i+1, len(Mult)):\n",
    "            if Mult.iloc[i][1]+Mult.iloc[j][1]+Mult.iloc[k][1]< n-2:\n",
    "                triple = (Mult.iloc[i][0],Mult.iloc[j][0],Mult.iloc[k][0])\n",
    "                Multiple_treks.append(triple)\n",
    "for i in Multiple_treks:\n",
    "    print(i)\n",
    "Rec_treks"
   ]
  },
  {
   "cell_type": "code",
   "execution_count": 16,
   "id": "ff1ffbea",
   "metadata": {},
   "outputs": [],
   "source": []
  },
  {
   "cell_type": "code",
   "execution_count": null,
   "id": "a8c573a7",
   "metadata": {},
   "outputs": [],
   "source": []
  },
  {
   "cell_type": "code",
   "execution_count": null,
   "id": "6d772631",
   "metadata": {},
   "outputs": [],
   "source": []
  },
  {
   "cell_type": "markdown",
   "id": "83ee6b46",
   "metadata": {},
   "source": []
  },
  {
   "cell_type": "code",
   "execution_count": 17,
   "id": "380d33ac",
   "metadata": {},
   "outputs": [],
   "source": []
  },
  {
   "cell_type": "code",
   "execution_count": null,
   "id": "d95b728d",
   "metadata": {},
   "outputs": [],
   "source": []
  },
  {
   "cell_type": "code",
   "execution_count": null,
   "id": "11c7d311",
   "metadata": {},
   "outputs": [],
   "source": []
  },
  {
   "cell_type": "code",
   "execution_count": null,
   "id": "53a67fc3",
   "metadata": {},
   "outputs": [],
   "source": []
  }
 ],
 "metadata": {
  "kernelspec": {
   "display_name": "Python 3",
   "language": "python",
   "name": "python3"
  },
  "language_info": {
   "codemirror_mode": {
    "name": "ipython",
    "version": 3
   },
   "file_extension": ".py",
   "mimetype": "text/x-python",
   "name": "python",
   "nbconvert_exporter": "python",
   "pygments_lexer": "ipython3",
   "version": "3.8.8"
  }
 },
 "nbformat": 4,
 "nbformat_minor": 5
}
