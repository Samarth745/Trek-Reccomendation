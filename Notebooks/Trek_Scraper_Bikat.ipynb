{
  "nbformat": 4,
  "nbformat_minor": 0,
  "metadata": {
    "colab": {
      "provenance": []
    },
    "kernelspec": {
      "name": "python3",
      "display_name": "Python 3"
    },
    "language_info": {
      "name": "python"
    }
  },
  "cells": [
    {
      "cell_type": "code",
      "execution_count": 1,
      "metadata": {
        "id": "p7pz7qCkXsJo"
      },
      "outputs": [],
      "source": [
        "import pandas as pd\n",
        "import requests\n",
        "from bs4 import BeautifulSoup"
      ]
    },
    {
      "cell_type": "code",
      "source": [
        "#@title TrekFunction1\n",
        "def get_trek_info(trek):\n",
        "  global trekdf\n",
        "  soup = BeautifulSoup(str(trek), 'html.parser')\n",
        "  trek_info = {}\n",
        "  trek_info['name'] = [soup.find('h4', class_='trek-card-heading').text.strip()]\n",
        "  trek_info['link'] = [\"https://www.bikatadventures.com/\"+soup.find('a', class_='trek-card-anchor-wrapper')['href']]\n",
        "  trek_info['difficulty'] = [soup.find('div', class_='trek-info-in-card').text.strip().replace(\"BRS \",\"\")]\n",
        "  trek_info['duration'] = [soup.find_all('div', class_='trek-info-in-card')[1].text.strip()]\n",
        "  trek_info['distance'] = [soup.find_all('div', class_='trek-info-in-card')[2].text.strip()]\n",
        "  trek_info['max_altitude'] = [soup.find('div', class_='max-alt-trek-card').text.strip()]\n",
        "  trek_info['price'] = [soup.find('div', class_='trek-card-price-and-explore').text.strip().replace(\"\\n\",\" \").replace(\"\\r\",\" \").replace(\"₹\",\"\")]\n",
        "  code = requests.get(pd.DataFrame(trek_info)[\"link\"][0]).text\n",
        "  soup = BeautifulSoup(code, \"html.parser\")\n",
        "  trek_info['location'] = [soup.find('div', class_=\"container-trek-info\").span.text.replace(\"\\n\", \" \")]\n",
        "  trek_info[\"from\"]=[soup.find('span',class_=\"place-to-from\").text.split(\" to \")[0]]\n",
        "  trek_info[\"To\"]=[soup.find('span',class_=\"place-to-from\").text.split(\" to \")[1]]\n",
        "  trek_info[\"Season\"]=[[i.text.replace(\" 2024\",\"\") for i in soup.find_all('h3',class_='overlay-image-content-heading')]]\n",
        "  trek_info[\"description\"]=[soup.find(\"div\", class_=\"description\").text]\n",
        "  trek_info[\"itinerary\"]=[soup.find(\"div\", class_=\"container-itinerary\").text]\n",
        "  row = pd.DataFrame(trek_info)\n",
        "  trekdf = pd.concat([trekdf, row])"
      ],
      "metadata": {
        "cellView": "form",
        "id": "8UCsnFmGibpl"
      },
      "execution_count": 114,
      "outputs": []
    },
    {
      "cell_type": "code",
      "source": [
        "def get_trek_info(trek):\n",
        "    global trekdf\n",
        "    soup = BeautifulSoup(str(trek), 'html.parser')\n",
        "    trek_info = {}\n",
        "    try:\n",
        "        trek_info['name'] = [soup.find('h4', class_='trek-card-heading').text.strip()]\n",
        "    except:\n",
        "        trek_info['name'] = ['']\n",
        "    try:\n",
        "        trek_info['link'] = [\"https://www.bikatadventures.com/\" + soup.find('a', class_='trek-card-anchor-wrapper')['href']]\n",
        "    except TypeError:\n",
        "        trek_info['link'] = ['']\n",
        "    try:\n",
        "        trek_info['difficulty'] = [soup.find('div', class_='trek-info-in-card').text.strip().replace(\"BRS \", \"\")]\n",
        "    except:\n",
        "        trek_info['difficulty'] = ['']\n",
        "    try:\n",
        "        trek_info['duration'] = [soup.find_all('div', class_='trek-info-in-card')[1].text.strip()]\n",
        "    except:\n",
        "        trek_info['duration'] = ['']\n",
        "    try:\n",
        "        trek_info['distance'] = [soup.find_all('div', class_='trek-info-in-card')[2].text.strip()]\n",
        "    except:\n",
        "        trek_info['distance'] = ['']\n",
        "    try:\n",
        "        trek_info['max_altitude'] = [soup.find('div', class_='max-alt-trek-card').text.strip()]\n",
        "    except:\n",
        "        trek_info['max_altitude'] = ['']\n",
        "    try:\n",
        "        trek_info['price'] = [soup.find('div', class_='trek-card-price-and-explore').text.strip().replace(\"\\n\", \" \").replace(\"\\r\", \"\").replace(\"₹\", \"\")]\n",
        "    except:\n",
        "        trek_info['price'] = ['']\n",
        "    try:\n",
        "        code = requests.get(pd.DataFrame(trek_info)[\"link\"][0]).text\n",
        "        soup = BeautifulSoup(code, \"html.parser\")\n",
        "        trek_info['location'] = [soup.find('div', class_=\"container-trek-info\").span.text.replace(\"\\n\", \" \")]\n",
        "    except:\n",
        "        trek_info['location'] = ['']\n",
        "    try:\n",
        "        trek_info[\"from\"] = [soup.find('span', class_=\"place-to-from\").text.split(\" to \")[0]]\n",
        "    except:\n",
        "        trek_info[\"from\"] = ['']\n",
        "    try:\n",
        "        trek_info[\"To\"] = [soup.find('span', class_=\"place-to-from\").text.split(\" to \")[1]]\n",
        "    except:\n",
        "        trek_info[\"To\"] = ['']\n",
        "    try:\n",
        "        trek_info[\"Season\"] = [[i.text.replace(\" 2024\", \"\") for i in soup.find_all('h3', class_='overlay-image-content-heading')]]\n",
        "    except:\n",
        "        trek_info[\"Season\"] = ['']\n",
        "    try:\n",
        "        trek_info[\"description\"] = [soup.find(\"div\", class_=\"description\").text]\n",
        "    except:\n",
        "        trek_info[\"description\"] = ['']\n",
        "    try:\n",
        "        trek_info[\"itinerary\"] = [soup.find(\"div\", class_=\"container-itinerary\").text]\n",
        "    except:\n",
        "        trek_info[\"itinerary\"] = ['']\n",
        "\n",
        "    row = pd.DataFrame(trek_info)\n",
        "    trekdf = pd.concat([trekdf, row])\n"
      ],
      "metadata": {
        "id": "pukgi78qrNlW"
      },
      "execution_count": 136,
      "outputs": []
    },
    {
      "cell_type": "code",
      "source": [
        "trekdf=pd.DataFrame()\n"
      ],
      "metadata": {
        "id": "IXSiO5cCyV9Z"
      },
      "execution_count": 143,
      "outputs": []
    },
    {
      "cell_type": "code",
      "source": [
        "for num in range(1,13):\n",
        "  content = requests.get(\"https://www.bikatadventures.com/Home/find_your_next_adventure?page=1&brs=&price=&duration=&altitude=&month=4&region=&category=&feature=&distance=&sort_by=default\").text\n",
        "  soup = BeautifulSoup(content, 'html.parser')\n",
        "  all_treks = soup.find_all('div', class_=\"trek-card-column\")\n",
        "  for trek in all_treks:\n",
        "    get_trek_info(trek)"
      ],
      "metadata": {
        "id": "-xOxkhajtqwA"
      },
      "execution_count": null,
      "outputs": []
    },
    {
      "cell_type": "code",
      "source": [
        "trekdf.shape"
      ],
      "metadata": {
        "colab": {
          "base_uri": "https://localhost:8080/"
        },
        "id": "QvkOmdBzwgRX",
        "outputId": "c67ad552-659d-4faf-9b43-3d7f4a2e9e10"
      },
      "execution_count": 146,
      "outputs": [
        {
          "output_type": "execute_result",
          "data": {
            "text/plain": [
              "(204, 13)"
            ]
          },
          "metadata": {},
          "execution_count": 146
        }
      ]
    },
    {
      "cell_type": "code",
      "source": [
        "trekdf.to_excel(\"BikatTreks.xlsx\")"
      ],
      "metadata": {
        "id": "j8O-NnKv0uuO"
      },
      "execution_count": 149,
      "outputs": []
    },
    {
      "cell_type": "code",
      "source": [
        "from google.colab import files"
      ],
      "metadata": {
        "id": "ApLb9bxW07S3"
      },
      "execution_count": 150,
      "outputs": []
    },
    {
      "cell_type": "code",
      "source": [
        "files.download(\"BikatTreks.xlsx\")"
      ],
      "metadata": {
        "colab": {
          "base_uri": "https://localhost:8080/",
          "height": 17
        },
        "id": "pfWr0aar1DM7",
        "outputId": "c42e7263-d4f6-442d-fe28-c545663f4164"
      },
      "execution_count": 152,
      "outputs": [
        {
          "output_type": "display_data",
          "data": {
            "text/plain": [
              "<IPython.core.display.Javascript object>"
            ],
            "application/javascript": [
              "\n",
              "    async function download(id, filename, size) {\n",
              "      if (!google.colab.kernel.accessAllowed) {\n",
              "        return;\n",
              "      }\n",
              "      const div = document.createElement('div');\n",
              "      const label = document.createElement('label');\n",
              "      label.textContent = `Downloading \"${filename}\": `;\n",
              "      div.appendChild(label);\n",
              "      const progress = document.createElement('progress');\n",
              "      progress.max = size;\n",
              "      div.appendChild(progress);\n",
              "      document.body.appendChild(div);\n",
              "\n",
              "      const buffers = [];\n",
              "      let downloaded = 0;\n",
              "\n",
              "      const channel = await google.colab.kernel.comms.open(id);\n",
              "      // Send a message to notify the kernel that we're ready.\n",
              "      channel.send({})\n",
              "\n",
              "      for await (const message of channel.messages) {\n",
              "        // Send a message to notify the kernel that we're ready.\n",
              "        channel.send({})\n",
              "        if (message.buffers) {\n",
              "          for (const buffer of message.buffers) {\n",
              "            buffers.push(buffer);\n",
              "            downloaded += buffer.byteLength;\n",
              "            progress.value = downloaded;\n",
              "          }\n",
              "        }\n",
              "      }\n",
              "      const blob = new Blob(buffers, {type: 'application/binary'});\n",
              "      const a = document.createElement('a');\n",
              "      a.href = window.URL.createObjectURL(blob);\n",
              "      a.download = filename;\n",
              "      div.appendChild(a);\n",
              "      a.click();\n",
              "      div.remove();\n",
              "    }\n",
              "  "
            ]
          },
          "metadata": {}
        },
        {
          "output_type": "display_data",
          "data": {
            "text/plain": [
              "<IPython.core.display.Javascript object>"
            ],
            "application/javascript": [
              "download(\"download_299bfcfe-e9d6-4a13-9696-0e27e02351cb\", \"BikatTreks.xlsx\", 854628)"
            ]
          },
          "metadata": {}
        }
      ]
    },
    {
      "cell_type": "code",
      "source": [],
      "metadata": {
        "id": "IwvIZG1H1HGW"
      },
      "execution_count": null,
      "outputs": []
    }
  ]
}